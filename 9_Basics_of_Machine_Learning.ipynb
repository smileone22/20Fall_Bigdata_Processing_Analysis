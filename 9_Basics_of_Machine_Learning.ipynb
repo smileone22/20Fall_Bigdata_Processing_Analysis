{
  "nbformat": 4,
  "nbformat_minor": 0,
  "metadata": {
    "colab": {
      "name": "9_Basics_of_Machine_Learning.ipynb",
      "provenance": [],
      "authorship_tag": "ABX9TyOpYjEyUVenL+ub0T99PT3q",
      "include_colab_link": true
    },
    "kernelspec": {
      "name": "python3",
      "display_name": "Python 3"
    }
  },
  "cells": [
    {
      "cell_type": "markdown",
      "metadata": {
        "id": "view-in-github",
        "colab_type": "text"
      },
      "source": [
        "<a href=\"https://colab.research.google.com/github/smileone22/20Fall_Bigdata_Processing_Analysis/blob/master/9_Basics_of_Machine_Learning.ipynb\" target=\"_parent\"><img src=\"https://colab.research.google.com/assets/colab-badge.svg\" alt=\"Open In Colab\"/></a>"
      ]
    },
    {
      "cell_type": "markdown",
      "metadata": {
        "id": "CYIn_dXrBxjr"
      },
      "source": [
        "# What is Machine Learning?\n",
        "- Artificial Intelligence: the act of complex work through the imitation of human intellgience  \n",
        "- Machine Learning : Make predictions/decisions after analyzing, learning data using algorithms\n",
        "- Deep Learning: A method in machine learning that makes use of artificial nueral networks "
      ]
    },
    {
      "cell_type": "markdown",
      "metadata": {
        "id": "igitvEEjBxop"
      },
      "source": [
        "- From data, machine learning predicts outcome through learning the patterns of data "
      ]
    },
    {
      "cell_type": "markdown",
      "metadata": {
        "id": "fyWTU6_vBxsP"
      },
      "source": [
        "## What is Learning?\n",
        "- Supervised Learning: Regression, Classification\n",
        "- Unsupervised Learning: Clustering, Dimensionality reduction \n",
        "- Reinforcement Learning"
      ]
    },
    {
      "cell_type": "markdown",
      "metadata": {
        "id": "3Ip3pAdkBxuv"
      },
      "source": [
        "# Advantages of Machine Learning\n",
        "- Able to find complex patterns\n",
        "- With fitting algorithms and good quality data, good performance \n",
        "- Could be used without much domain knowledge "
      ]
    },
    {
      "cell_type": "markdown",
      "metadata": {
        "id": "bZg7U-KlKtt1"
      },
      "source": [
        "# Disadvantages of Machine Learning\n",
        "- Heavily relies on \"data\"\n",
        "- Overfitting issue\n",
        "- Requires sufficient, diverse data that fits the purpose\n",
        "\n",
        "### In conclusion, good performance equals to data quality + data quantity "
      ]
    }
  ]
}